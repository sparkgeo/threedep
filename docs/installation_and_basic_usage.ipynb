{
 "cells": [
  {
   "cell_type": "markdown",
   "id": "29d77a51",
   "metadata": {},
   "source": [
    "# Tutorial: Working with this stactools subpackage\n",
    "\n",
    "Stactools ([docs](https://stactools.readthedocs.io/en/latest/), [source](https://github.com/stac-utils/stactools)) is a command line tool and library for working with [STAC](https://stacspec.org/), based on [PySTAC](https://github.com/stac-utils/pystac).\n",
    "\n",
    "[Stactools dataset packages](https://github.com/stactools-packages) are add-ons for stactools that provide STAC functionality for specific datasets, such as [Sentinel 2](https://github.com/stactools-packages/sentinel2) and [Landsat](https://github.com/stactools-packages/landsat).\n",
    "\n",
    "Stactools and its dataset packages can be accessed from the CLI or from within normal Python code. This notebook provides examples of both."
   ]
  },
  {
   "cell_type": "markdown",
   "id": "62b1f10e",
   "metadata": {},
   "source": [
    "## 1. Using this notebook\n",
    "\n",
    "The easiest way to use this notebook is to run it through `scripts/notebook`. This will create a Docker container already set up with the prerequisites and open the stactools dataset folder. Navigate to `docs/` to find this notebook.\n",
    "\n",
    "If you wish to use this notebook outside of the container (such as on mybinder.org) then please install the prerequisites using:"
   ]
  },
  {
   "cell_type": "code",
   "execution_count": null,
   "id": "80a03d41",
   "metadata": {},
   "outputs": [],
   "source": [
    "!pip install stactools-threedep"
   ]
  },
  {
   "cell_type": "markdown",
   "id": "90051873",
   "metadata": {},
   "source": [
    "## 2. Using the stactools dataset package from the CLI"
   ]
  },
  {
   "cell_type": "markdown",
   "id": "d485005f",
   "metadata": {},
   "source": [
    "The first thing we can do is check that the `stac` CLI tool is installed and explore the options. Notice the inclusion of the command for this dataset package in stactools now."
   ]
  },
  {
   "cell_type": "code",
   "execution_count": 1,
   "id": "076ee951",
   "metadata": {},
   "outputs": [
    {
     "name": "stdout",
     "output_type": "stream",
     "text": [
      "Usage: stac [OPTIONS] COMMAND [ARGS]...\r\n",
      "\r\n",
      "Options:\r\n",
      "  -v, --verbose  Use verbose mode\r\n",
      "  -q, --quiet    Use quiet mode (no output)\r\n",
      "  --help         Show this message and exit.\r\n",
      "\r\n",
      "Commands:\r\n",
      "  copy         Copy a STAC Catalog\r\n",
      "  describe     Prints out a list of all catalogs, collections and items in\r\n",
      "               this STAC.\r\n",
      "\r\n",
      "  info         Display info about a static STAC catalog.\r\n",
      "  layout       Reformat the layout of a STAC based on templating.\r\n",
      "  merge        Merge items from one STAC into another.\r\n",
      "  move-assets  Move or copy assets in a STAC to the Item locations.\r\n",
      "  threedep     Work with USGS 3DEP elevation data.\r\n",
      "  validate     Validate a stac object.\r\n",
      "  version      Display version info.\r\n"
     ]
    }
   ],
   "source": [
    "!stac"
   ]
  },
  {
   "cell_type": "markdown",
   "id": "e710b2ff",
   "metadata": {},
   "source": [
    "You can now explore the STAC dataset package commands to ingest and describe the data"
   ]
  },
  {
   "cell_type": "code",
   "execution_count": 2,
   "id": "3c806aa2",
   "metadata": {},
   "outputs": [
    {
     "name": "stdout",
     "output_type": "stream",
     "text": [
      "Usage: stac threedep [OPTIONS] COMMAND [ARGS]...\r\n",
      "\r\n",
      "Options:\r\n",
      "  --help  Show this message and exit.\r\n",
      "\r\n",
      "Commands:\r\n",
      "  create-catalog     Create a STAC catalog for existing USGS 3DEP data\r\n",
      "  download-metadata  Download all metadata for USGS 3DEP data\r\n",
      "  fetch-ids          Fetch all product ids and print them to stdout\r\n"
     ]
    }
   ],
   "source": [
    "!stac threedep --help"
   ]
  },
  {
   "cell_type": "markdown",
   "id": "8f8a68e4",
   "metadata": {},
   "source": [
    "And more specific help with an individual command."
   ]
  },
  {
   "cell_type": "code",
   "execution_count": 4,
   "id": "5ecdc54d",
   "metadata": {},
   "outputs": [
    {
     "name": "stdout",
     "output_type": "stream",
     "text": [
      "Usage: stac threedep create-catalog [OPTIONS] DESTINATION\r\n",
      "\r\n",
      "  Creates a relative published 3DEP catalog in DESTINATION.\r\n",
      "\r\n",
      "  If SOURCE is not provided, will use the metadata in AWS. SOURCE is\r\n",
      "  expected to be a directory tree mirroring the structure on USGS, so it is\r\n",
      "  best created using `stac threedep download-metadata`.\r\n",
      "\r\n",
      "Options:\r\n",
      "  -s, --source TEXT     The href of a directory tree containing metadata\r\n",
      "  -i, --id TEXT         Ids to fetch. If not provided, will fetch all IDs.\r\n",
      "  --quiet / --no-quiet\r\n",
      "  --help                Show this message and exit.\r\n"
     ]
    }
   ],
   "source": [
    "!stac threedep create-catalog --help"
   ]
  },
  {
   "cell_type": "markdown",
   "id": "98ec49b8",
   "metadata": {},
   "source": [
    "## 3. Using the stactools dataset package from within Python code"
   ]
  },
  {
   "cell_type": "markdown",
   "id": "a3c3942b",
   "metadata": {},
   "source": [
    "So far we've used Jupyter Notebooks' IPython [line magic](https://ipython.readthedocs.io/en/stable/interactive/magics.html) to work with stactools packages on the command line, but it's also possible to use them within Python scripts."
   ]
  },
  {
   "cell_type": "code",
   "execution_count": null,
   "id": "2ef0f996",
   "metadata": {},
   "outputs": [],
   "source": [
    "from stactools.threedep import stac\n",
    "\n",
    "stac.create_item_from_product_and_id(product=\"1\", id=\"n41w106\")"
   ]
  },
  {
   "cell_type": "code",
   "execution_count": null,
   "id": "a2ba507a",
   "metadata": {},
   "outputs": [],
   "source": []
  }
 ],
 "metadata": {
  "interpreter": {
   "hash": "c2bee1ab741e827a7e677add16aa73fb04c1c623305731aa61866545d78e2921"
  },
  "kernelspec": {
   "display_name": "Python 3 (ipykernel)",
   "language": "python",
   "name": "python3"
  },
  "language_info": {
   "codemirror_mode": {
    "name": "ipython",
    "version": 3
   },
   "file_extension": ".py",
   "mimetype": "text/x-python",
   "name": "python",
   "nbconvert_exporter": "python",
   "pygments_lexer": "ipython3",
   "version": "3.9.6"
  }
 },
 "nbformat": 4,
 "nbformat_minor": 5
}
